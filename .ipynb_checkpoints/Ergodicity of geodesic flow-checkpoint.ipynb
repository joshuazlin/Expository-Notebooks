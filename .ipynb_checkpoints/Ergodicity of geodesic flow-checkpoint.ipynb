{
 "cells": [
  {
   "cell_type": "markdown",
   "metadata": {},
   "source": [
    "# 1. Riemann Surfaces\n",
    "\n",
    "First, let's remember some general math definitions and facts. \n",
    "\n",
    "<b>(1) Definition:</b> a <b>Complex Manifold</b> is a manifold with an atlas of charts that map (topologically) open sets to the open unit disc in $\\mathbb{C}^n$, where the transition maps are biholomorphic. We will in particular be interested in the case of complex surfaces (by that, I mean $1$-dimensional complex manifolds). \n",
    "\n",
    "<b>(2) Definition:</b> Two Riemannian metrics $h,g$ on a manifold are <b>conformally equivalent</b> if they preserve angles but not necessarily lengths, which is equivalent to saying $h = \\lambda^2 g$ for some smooth function $\\lambda$ over the manifold. \n",
    "\n",
    "One of the surprising things that you run into whilst learning complex analysis is that these two structures are exactly the same data, in the case of Riemann Surfaces. In other words, specifying a complex structure is the same as specifying a class of conformally-equivalent Riemannian metrics, and vice versa. Now, we are ready to state the Uniformization theorem:\n",
    "\n",
    "<b>(3) Uniformization Theorem:</b> Every simply connected Riemann surface is conformally equivalent to one of three Riemann surfaces: the open unit disk, the complex plane, or the Riemann sphere. (Note that in light of the above discussion, this is exactly the same thing as saying that up to isomorphism, there are only three simply-connected Riemann Surfaces, $\\mathbb{C}, \\mathbb{D},\\mathbb{P}^1$.\n",
    "\n",
    "The importance of this is that if we start with <i>any</i> Riemann Surface, it will have one of these three as its universal cover. "
   ]
  },
  {
   "cell_type": "code",
   "execution_count": null,
   "metadata": {},
   "outputs": [],
   "source": []
  }
 ],
 "metadata": {
  "kernelspec": {
   "display_name": "Python 3",
   "language": "python",
   "name": "python3"
  },
  "language_info": {
   "codemirror_mode": {
    "name": "ipython",
    "version": 3
   },
   "file_extension": ".py",
   "mimetype": "text/x-python",
   "name": "python",
   "nbconvert_exporter": "python",
   "pygments_lexer": "ipython3",
   "version": "3.7.2"
  }
 },
 "nbformat": 4,
 "nbformat_minor": 2
}
