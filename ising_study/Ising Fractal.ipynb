{
 "cells": [
  {
   "cell_type": "code",
   "execution_count": 2,
   "metadata": {},
   "outputs": [],
   "source": [
    "import numpy as np\n",
    "import matplotlib.pyplot as plt"
   ]
  },
  {
   "cell_type": "code",
   "execution_count": 101,
   "metadata": {},
   "outputs": [],
   "source": [
    "def ising_hamiltonian(J,x):\n",
    "    return -J*(np.sum(x*np.roll(x,1,axis=0)) + np.sum(x*np.roll(x,1,axis=1)))\n",
    "\n",
    "def calc_staple(x,idx):\n",
    "    nbhs = [((idx[0]+1)%x.shape[0],idx[1]),\n",
    "            ((idx[0]-1)%x.shape[0],idx[1]),\n",
    "            (idx[0],(idx[1]+1)%x.shape[1]),\n",
    "            (idx[0],(idx[1]-1)%x.shape[1])]\n",
    "    return sum(map(lambda y:x[y],nbhs))\n",
    "    \n",
    "# mutates x, measures delta(H)\n",
    "def ising_metropolis_step(J,beta,x):\n",
    "    idx = (1 + np.random.randint(x.shape[0]-2),np.random.randint(x.shape[1]))\n",
    "    staple = calc_staple(x,idx)\n",
    "    if np.random.random() < np.exp(-2*beta*J*(x[idx]*staple)):\n",
    "        x[idx] = -x[idx]\n",
    "        return -2*J*x[idx]*staple\n",
    "    return 0"
   ]
  },
  {
   "cell_type": "code",
   "execution_count": 99,
   "metadata": {},
   "outputs": [],
   "source": [
    "idx = (0,4)"
   ]
  },
  {
   "cell_type": "code",
   "execution_count": 100,
   "metadata": {},
   "outputs": [
    {
     "data": {
      "text/plain": [
       "[(1, 4), (4, 4), (0, 0), (0, 3)]"
      ]
     },
     "execution_count": 100,
     "metadata": {},
     "output_type": "execute_result"
    }
   ],
   "source": [
    "#idx = (1 + np.random.randint(x.shape[0]-2),np.random.randint(x.shape[1]))\n",
    "#idx\n",
    "nbhs = [((idx[0]+1)%x.shape[0],idx[1]),\n",
    "            ((idx[0]-1)%x.shape[0],idx[1]),\n",
    "            (idx[0],(idx[1]+1)%x.shape[1]),\n",
    "            (idx[0],(idx[1]-1)%x.shape[1])]\n",
    "nbhs"
   ]
  },
  {
   "cell_type": "code",
   "execution_count": null,
   "metadata": {},
   "outputs": [],
   "source": []
  },
  {
   "cell_type": "code",
   "execution_count": 93,
   "metadata": {},
   "outputs": [
    {
     "data": {
      "text/plain": [
       "array([[-1, -1, -1, -1, -1],\n",
       "       [-1, -1, -1, -1,  1],\n",
       "       [-1, -1, -1, -1,  1],\n",
       "       [ 1,  1, -1, -1, -1],\n",
       "       [ 1,  1,  1,  1,  1]])"
      ]
     },
     "execution_count": 93,
     "metadata": {},
     "output_type": "execute_result"
    }
   ],
   "source": [
    "x"
   ]
  },
  {
   "cell_type": "code",
   "execution_count": 16,
   "metadata": {},
   "outputs": [
    {
     "data": {
      "text/plain": [
       "1"
      ]
     },
     "execution_count": 16,
     "metadata": {},
     "output_type": "execute_result"
    }
   ],
   "source": [
    "x[(1,0)]"
   ]
  },
  {
   "cell_type": "code",
   "execution_count": 114,
   "metadata": {},
   "outputs": [
    {
     "name": "stderr",
     "output_type": "stream",
     "text": [
      "/Library/Frameworks/Python.framework/Versions/3.7/lib/python3.7/site-packages/ipykernel_launcher.py:15: RuntimeWarning: overflow encountered in exp\n",
      "  from ipykernel import kernelapp as app\n"
     ]
    }
   ],
   "source": [
    "#Initial state, with boundary conditions\n",
    "x = np.random.choice([-1,1],size=(1024,1024))\n",
    "x[0,:] = -1\n",
    "x[-1,:] = 1\n",
    "\n",
    "#Quench the system\n",
    "for T in np.linspace(3,0.01,200):\n",
    "    #Burn 1000\n",
    "    for i in range(100000):\n",
    "        ising_metropolis_step_h(1,1/T,x)"
   ]
  },
  {
   "cell_type": "code",
   "execution_count": 118,
   "metadata": {},
   "outputs": [
    {
     "data": {
      "text/plain": [
       "array([1, 1, 1, ..., 1, 1, 1])"
      ]
     },
     "execution_count": 118,
     "metadata": {},
     "output_type": "execute_result"
    }
   ],
   "source": [
    "x[-1,:]"
   ]
  },
  {
   "cell_type": "code",
   "execution_count": 115,
   "metadata": {},
   "outputs": [
    {
     "data": {
      "image/png": "[encoded data removed]",
      "text/plain": [
       "<Figure size 432x288 with 1 Axes>"
      ]
     },
     "metadata": {
      "needs_background": "light"
     },
     "output_type": "display_data"
    }
   ],
   "source": [
    "plt.imshow(x)\n",
    "plt.show()"
   ]
  }
 ],
 "metadata": {
  "kernelspec": {
   "display_name": "Python 3",
   "language": "python",
   "name": "python3"
  },
  "language_info": {
   "codemirror_mode": {
    "name": "ipython",
    "version": 3
   },
   "file_extension": ".py",
   "mimetype": "text/x-python",
   "name": "python",
   "nbconvert_exporter": "python",
   "pygments_lexer": "ipython3",
   "version": "3.7.2"
  }
 },
 "nbformat": 4,
 "nbformat_minor": 2
}
